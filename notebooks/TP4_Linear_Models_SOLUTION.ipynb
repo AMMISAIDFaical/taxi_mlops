{
 "nbformat": 4,
 "nbformat_minor": 0,
 "metadata": {
  "colab": {
   "provenance": []
  },
  "kernelspec": {
   "name": "python3",
   "language": "python",
   "display_name": "Python 3 (ipykernel)"
  },
  "language_info": {
   "name": "python"
  }
 },
 "cells": [
  {
   "cell_type": "markdown",
   "metadata": {
    "id": "RNHkwnbO_uuR"
   },
   "source": [
    "# Regression: New York City Taxi Trip Duration"
   ]
  },
  {
   "cell_type": "code",
   "source": [
    "import pandas as pd\n",
    "import numpy as np\n",
    "import matplotlib.pyplot as plt\n",
    "import seaborn as sns\n",
    "import common\n",
    "\n",
    "%matplotlib inline\n",
    "# some settings for graphics\n",
    "sns.set_style(\"dark\")\n",
    "sns.set(rc={'figure.figsize':(12,4)})\n",
    "# use this value where it is possible to indicate the random state\n",
    "RANDOM_STATE = common.RANDOM_STATE"
   ],
   "metadata": {
    "id": "Iqno_x6rd1VT",
    "ExecuteTime": {
     "end_time": "2023-12-07T11:29:15.016629100Z",
     "start_time": "2023-12-07T11:29:14.959647900Z"
    }
   },
   "execution_count": 1,
   "outputs": []
  },
  {
   "cell_type": "code",
   "source": [
    "import os\n",
    "\n",
    "path = 'New_York_City_Taxi_Trip_Duration.zip'\n",
    "data = pd.read_csv(path, compression='zip')"
   ],
   "metadata": {
    "id": "h9zVGLFiAx29",
    "ExecuteTime": {
     "end_time": "2023-12-07T11:29:41.308516900Z",
     "start_time": "2023-12-07T11:29:25.511515900Z"
    }
   },
   "execution_count": 2,
   "outputs": []
  },
  {
   "cell_type": "code",
   "source": [
    "# display table dimensions\n",
    "data.shape"
   ],
   "metadata": {
    "id": "txQ2GDUtvBuI",
    "colab": {
     "base_uri": "https://localhost:8080/"
    },
    "outputId": "225673e8-a6d7-488b-ac83-d333a6a66c2b",
    "ExecuteTime": {
     "end_time": "2023-12-07T11:29:41.354512400Z",
     "start_time": "2023-12-07T11:29:41.311516300Z"
    }
   },
   "execution_count": 3,
   "outputs": [
    {
     "data": {
      "text/plain": "(1458644, 11)"
     },
     "execution_count": 3,
     "metadata": {},
     "output_type": "execute_result"
    }
   ]
  },
  {
   "cell_type": "code",
   "source": [
    "# display 10 random rows\n",
    "# data.sample(10)\n"
   ],
   "metadata": {
    "colab": {
     "base_uri": "https://localhost:8080/",
     "height": 556
    },
    "id": "a_2Fg91c-fYc",
    "outputId": "2d0321ee-e5fe-4ed7-c14b-b2ffa34b8fe5",
    "ExecuteTime": {
     "end_time": "2023-12-07T12:03:55.318602900Z",
     "start_time": "2023-12-07T12:03:54.994602600Z"
    }
   },
   "execution_count": 30,
   "outputs": []
  },
  {
   "cell_type": "code",
   "source": [
    "# display descriptive statistics\n",
    "# data.describe()"
   ],
   "metadata": {
    "colab": {
     "base_uri": "https://localhost:8080/",
     "height": 320
    },
    "id": "ZJqATl9v-t0d",
    "outputId": "1f7fbfe1-ac0e-42e2-e3c6-9e7d43ddfe4f",
    "ExecuteTime": {
     "end_time": "2023-12-07T11:29:41.540512Z",
     "start_time": "2023-12-07T11:29:41.343514800Z"
    }
   },
   "execution_count": 5,
   "outputs": []
  },
  {
   "cell_type": "code",
   "source": [
    "# data.describe(include='object')"
   ],
   "metadata": {
    "colab": {
     "base_uri": "https://localhost:8080/",
     "height": 174
    },
    "id": "g73WC4cn-9D8",
    "outputId": "10226ecc-852a-4f58-c7cf-ca8df5ebfd69",
    "ExecuteTime": {
     "end_time": "2023-12-07T11:29:41.589514Z",
     "start_time": "2023-12-07T11:29:41.360514700Z"
    }
   },
   "execution_count": 6,
   "outputs": []
  },
  {
   "cell_type": "code",
   "source": [
    "# check if there are any columns containing unique values for each row. If so, drop them.\n",
    "data = data.drop(columns=['id'])"
   ],
   "metadata": {
    "id": "ph6sgMIO-wy4",
    "ExecuteTime": {
     "end_time": "2023-12-07T11:29:41.788511700Z",
     "start_time": "2023-12-07T11:29:41.373514700Z"
    }
   },
   "execution_count": 7,
   "outputs": []
  },
  {
   "cell_type": "code",
   "source": [
    "# dropoff_datetime variable is added only to train data and thus cannot be used by the predictive model. Drop this feature.\n",
    "data = data.drop(columns=['dropoff_datetime'])"
   ],
   "metadata": {
    "id": "GtMpVZGU-yrI",
    "ExecuteTime": {
     "end_time": "2023-12-07T11:29:41.822514900Z",
     "start_time": "2023-12-07T11:29:41.615513500Z"
    }
   },
   "execution_count": 8,
   "outputs": []
  },
  {
   "cell_type": "code",
   "source": [
    "# pickup_datetime contains date and time when the meter was engaged. Check the type of this feature and change it to datetime if it is another type.\n",
    "data['pickup_datetime'].dtype"
   ],
   "metadata": {
    "colab": {
     "base_uri": "https://localhost:8080/"
    },
    "id": "JiD7EOjh-z9-",
    "outputId": "b9f663c3-3cae-4552-d20b-60b230b507c1",
    "ExecuteTime": {
     "end_time": "2023-12-07T11:29:43.064511700Z",
     "start_time": "2023-12-07T11:29:42.886514200Z"
    }
   },
   "execution_count": 9,
   "outputs": [
    {
     "data": {
      "text/plain": "dtype('O')"
     },
     "execution_count": 9,
     "metadata": {},
     "output_type": "execute_result"
    }
   ]
  },
  {
   "cell_type": "code",
   "source": [
    "data['pickup_datetime'] = pd.to_datetime(data['pickup_datetime'])\n",
    "data['pickup_datetime'].head()"
   ],
   "metadata": {
    "colab": {
     "base_uri": "https://localhost:8080/"
    },
    "id": "iBZCKbqV_2AL",
    "outputId": "4cab8cfb-61a6-483a-fd6c-a47adaf5bb94",
    "ExecuteTime": {
     "end_time": "2023-12-07T11:29:50.048512600Z",
     "start_time": "2023-12-07T11:29:49.875512800Z"
    }
   },
   "execution_count": 10,
   "outputs": [
    {
     "data": {
      "text/plain": "0   2016-03-14 17:24:55\n1   2016-06-12 00:43:35\n2   2016-01-19 11:35:24\n3   2016-04-06 19:32:31\n4   2016-03-26 13:30:55\nName: pickup_datetime, dtype: datetime64[ns]"
     },
     "execution_count": 10,
     "metadata": {},
     "output_type": "execute_result"
    }
   ]
  },
  {
   "cell_type": "code",
   "source": [
    "# split data into train and test: 30% of data for test.\n",
    "from sklearn.model_selection import train_test_split\n",
    "\n",
    "X = data.drop(columns=['trip_duration'])\n",
    "y = data['trip_duration']\n",
    "X_train, X_test, y_train, y_test = train_test_split(X, y, test_size=0.3, random_state=RANDOM_STATE)"
   ],
   "metadata": {
    "id": "pZ4mFVxd-1Kz",
    "ExecuteTime": {
     "end_time": "2023-12-07T11:31:17.736633300Z",
     "start_time": "2023-12-07T11:31:16.832637200Z"
    }
   },
   "execution_count": 11,
   "outputs": []
  },
  {
   "cell_type": "code",
   "source": [
    "# data.trip_duration.hist();"
   ],
   "metadata": {
    "colab": {
     "base_uri": "https://localhost:8080/",
     "height": 375
    },
    "id": "S6FcMxXBDeKw",
    "outputId": "6a4eb57d-6b6b-4673-cddc-4dee6a182d66",
    "ExecuteTime": {
     "end_time": "2023-12-07T11:31:17.916631900Z",
     "start_time": "2023-12-07T11:31:17.742635800Z"
    }
   },
   "execution_count": 12,
   "outputs": []
  },
  {
   "cell_type": "code",
   "source": [
    "# data.trip_duration[data.trip_duration < data.trip_duration.quantile(0.99)].hist(bins=100);"
   ],
   "metadata": {
    "colab": {
     "base_uri": "https://localhost:8080/",
     "height": 335
    },
    "id": "KePGE-X3Dk9w",
    "outputId": "982d0987-a544-49ef-bdf4-f60cc902f043",
    "ExecuteTime": {
     "end_time": "2023-12-07T11:31:18.638632700Z",
     "start_time": "2023-12-07T11:31:18.490638300Z"
    }
   },
   "execution_count": 13,
   "outputs": []
  },
  {
   "cell_type": "code",
   "source": [
    "def transform_target(y):\n",
    "  return np.log1p(y).rename('log_'+y.name)\n",
    "\n",
    "y = transform_target(y)\n",
    "y_train = transform_target(y_train)\n",
    "y_test = transform_target(y_test)"
   ],
   "metadata": {
    "id": "ou3D2WCmDtmc",
    "ExecuteTime": {
     "end_time": "2023-12-07T11:32:26.654613600Z",
     "start_time": "2023-12-07T11:32:26.514608900Z"
    }
   },
   "execution_count": 14,
   "outputs": []
  },
  {
   "cell_type": "code",
   "source": [
    "# y.hist(bins=100);"
   ],
   "metadata": {
    "colab": {
     "base_uri": "https://localhost:8080/",
     "height": 332
    },
    "id": "UWjNl4jvFWtw",
    "outputId": "bdbc18f5-b1b7-480e-a3a5-7a36415e9e76"
   },
   "execution_count": null,
   "outputs": []
  },
  {
   "cell_type": "markdown",
   "source": [
    "## Task 3. Baseline\n",
    "\n",
    "To have some starting point, calculate the value of the RMSLE metric for the best constant prediction. What value could be considered as the best constant prediction?"
   ],
   "metadata": {
    "id": "v2Wyd8Cm2LY8"
   }
  },
  {
   "cell_type": "code",
   "metadata": {
    "id": "MvksIzMwLRQL",
    "colab": {
     "base_uri": "https://localhost:8080/"
    },
    "outputId": "7dfa5d3e-196f-4809-af1a-57e451ecc5a4",
    "ExecuteTime": {
     "end_time": "2023-12-07T11:32:36.696608700Z",
     "start_time": "2023-12-07T11:32:36.520609300Z"
    }
   },
   "source": [
    "from sklearn.metrics import mean_squared_error\n",
    "\n",
    "y_baseline = y_train.mean()\n",
    "print(f'Baseline prediction: {y_baseline:.2f} (transformed)')\n",
    "# np.expm1 is the inverse of log1p\n",
    "print(f'Baseline prediction: {np.expm1(y_baseline):.0f} (seconds)')\n",
    "\n",
    "print(f'RMSLE on train data: {mean_squared_error([y_baseline]*len(y_train), y_train, squared=False):.3f}')\n",
    "print(f'RMSLE on train data: {mean_squared_error([y_baseline]*len(y_test), y_test, squared=False):.3f}')"
   ],
   "execution_count": 15,
   "outputs": [
    {
     "name": "stdout",
     "output_type": "stream",
     "text": [
      "Baseline prediction: 6.47 (transformed)\n",
      "Baseline prediction: 643 (seconds)\n",
      "RMSLE on train data: 0.796\n",
      "RMSLE on train data: 0.795\n"
     ]
    }
   ]
  },
  {
   "cell_type": "code",
   "source": [
    "# data['trip_duration'].mean()"
   ],
   "metadata": {
    "id": "AuT-KPcvpRw7"
   },
   "execution_count": null,
   "outputs": []
  },
  {
   "cell_type": "code",
   "execution_count": 16,
   "outputs": [
    {
     "name": "stdout",
     "output_type": "stream",
     "text": [
      "Saving train and test data to a database: C:\\Users\\brono\\PycharmProjects\\taxi_project_mlops_vFinal\\data\\taxi.db\n"
     ]
    }
   ],
   "source": [
    "import sqlite3\n",
    "import os\n",
    "\n",
    "db_dir = os.path.dirname(common.DB_PATH)\n",
    "if not os.path.exists(db_dir):\n",
    "    os.makedirs(db_dir)\n",
    "\n",
    "print(f\"Saving train and test data to a database: {common.DB_PATH}\")\n",
    "with sqlite3.connect(common.DB_PATH) as con:\n",
    "    cur = con.cursor()\n",
    "    cur.execute(\"DROP TABLE IF EXISTS X_train\")\n",
    "    cur.execute(\"DROP TABLE IF EXISTS X_test\")\n",
    "    cur.execute(\"DROP TABLE IF EXISTS y_train\")\n",
    "    cur.execute(\"DROP TABLE IF EXISTS y_test\")\n",
    "    X_train.to_sql(name='X_train', con=con, if_exists=\"replace\")\n",
    "    X_test.to_sql(name='X_test', con=con, if_exists=\"replace\")\n",
    "    y_train.to_sql(name='y_train', con=con, if_exists=\"replace\")\n",
    "    y_test.to_sql(name='y_test', con=con, if_exists=\"replace\")"
   ],
   "metadata": {
    "collapsed": false,
    "ExecuteTime": {
     "end_time": "2023-12-07T11:33:49.012608700Z",
     "start_time": "2023-12-07T11:32:41.974610500Z"
    }
   }
  },
  {
   "cell_type": "code",
   "execution_count": 17,
   "outputs": [
    {
     "name": "stdout",
     "output_type": "stream",
     "text": [
      "Reading train data from the database: C:\\Users\\brono\\PycharmProjects\\taxi_project_mlops_v1\\data\\taxi.db\n"
     ]
    },
    {
     "data": {
      "text/plain": "[(1011257,\n  2,\n  '2016-05-03 09:03:08',\n  2,\n  -73.9798126220703,\n  40.75252914428711,\n  -73.98268127441406,\n  40.76367950439453,\n  'N'),\n (178550,\n  1,\n  '2016-01-01 16:40:51',\n  1,\n  -73.97762298583984,\n  40.74629592895508,\n  -73.96841430664062,\n  40.78893280029297,\n  'N'),\n (551460,\n  1,\n  '2016-04-24 13:57:03',\n  1,\n  -73.95069885253906,\n  40.77940368652344,\n  -73.86312866210938,\n  40.76860809326172,\n  'N')]"
     },
     "metadata": {},
     "output_type": "display_data"
    }
   ],
   "source": [
    "print(f\"Reading train data from the database: {common.DB_PATH}\")\n",
    "with sqlite3.connect(common.DB_PATH) as con:\n",
    "    cur = con.cursor()\n",
    "    res = cur.execute(\"SELECT * FROM X_train LIMIT 3\")\n",
    "    display(res.fetchall())"
   ],
   "metadata": {
    "collapsed": false,
    "ExecuteTime": {
     "end_time": "2023-12-07T11:25:04.396844300Z",
     "start_time": "2023-12-07T11:25:04.176845800Z"
    }
   }
  },
  {
   "cell_type": "markdown",
   "metadata": {
    "id": "vfgAETJdLRQL"
   },
   "source": [
    "## Task 4. `pickup_datetime`"
   ]
  },
  {
   "cell_type": "markdown",
   "source": [
    "### 4.1. Number of trips ~ date\n",
    "\n",
    "How many trips are there every day? Display the relationship between the number of trips and the date (you can use `sns.countplot` function)."
   ],
   "metadata": {
    "id": "jR1IqtpL2gLq"
   }
  },
  {
   "cell_type": "code",
   "source": [
    "X['pickup_date'] = X['pickup_datetime'].dt.date\n",
    "dates = X['pickup_date'].sort_values()\n",
    "# g = sns.countplot(x=dates)\n",
    "# g.set_major_formatter(dates.DateFormatter('%Y-%b'))"
   ],
   "metadata": {
    "id": "MTpiDtV1CsSm",
    "colab": {
     "base_uri": "https://localhost:8080/",
     "height": 336
    },
    "outputId": "3d640f21-0404-4092-a192-a5686115072e",
    "ExecuteTime": {
     "end_time": "2023-12-07T12:56:13.538038100Z",
     "start_time": "2023-12-07T12:56:09.849039Z"
    }
   },
   "execution_count": 31,
   "outputs": []
  },
  {
   "cell_type": "code",
   "source": [
    "# plt.plot(X['pickup_date'].groupby(X['pickup_date']).count(), 'o-');"
   ],
   "metadata": {
    "colab": {
     "base_uri": "https://localhost:8080/",
     "height": 335
    },
    "id": "ee05952vQ_8q",
    "outputId": "00d30ae0-6795-4425-d010-ccea330a0d1a",
    "ExecuteTime": {
     "end_time": "2023-12-07T12:56:23.403529500Z",
     "start_time": "2023-12-07T12:56:23.207532600Z"
    }
   },
   "execution_count": 32,
   "outputs": []
  },
  {
   "cell_type": "code",
   "source": [
    "# plt.plot(X_train['pickup_datetime'].groupby(X_train['pickup_datetime'].dt.date).count(), 'o-', label='train')\n",
    "# plt.plot(X_test['pickup_datetime'].groupby(X_test['pickup_datetime'].dt.date).count(), 'o-', label='test')\n",
    "# plt.title('Number of trips by date')\n",
    "# plt.legend(loc=0)\n",
    "# plt.ylabel('Number of trips')\n",
    "# plt.show()"
   ],
   "metadata": {
    "colab": {
     "base_uri": "https://localhost:8080/",
     "height": 350
    },
    "id": "vzuujbluRM30",
    "outputId": "898c255e-3767-432b-cb62-8697427895e5",
    "ExecuteTime": {
     "end_time": "2023-12-07T12:56:25.109530900Z",
     "start_time": "2023-12-07T12:56:24.969531300Z"
    }
   },
   "execution_count": 33,
   "outputs": []
  },
  {
   "cell_type": "markdown",
   "metadata": {
    "id": "fNJjcK9LLRQN"
   },
   "source": [
    "**Question**: You might have noticed 2 periods with too few trips compared to the usual number of trips. Check the corresponding dates and see if there were any specific events in New York on those dates that might explain these low values."
   ]
  },
  {
   "cell_type": "code",
   "source": [
    "df_abnormal_dates = X.groupby('pickup_date').size()\n",
    "abnormal_dates = df_abnormal_dates[df_abnormal_dates < df_abnormal_dates.quantile(0.02)]\n",
    "abnormal_dates"
   ],
   "metadata": {
    "colab": {
     "base_uri": "https://localhost:8080/"
    },
    "id": "LGYA6m6INc80",
    "outputId": "ca79cf49-e49d-478c-f75c-c2881eb01f16",
    "ExecuteTime": {
     "end_time": "2023-12-07T11:39:11.284502800Z",
     "start_time": "2023-12-07T11:39:11.195505300Z"
    }
   },
   "execution_count": 22,
   "outputs": [
    {
     "data": {
      "text/plain": "pickup_date\n2016-01-23    1648\n2016-01-24    3383\n2016-01-25    6084\n2016-05-30    5570\ndtype: int64"
     },
     "execution_count": 22,
     "metadata": {},
     "output_type": "execute_result"
    }
   ]
  },
  {
   "cell_type": "markdown",
   "source": [
    "<font color='yellowgreen'>your text here</font>"
   ],
   "metadata": {
    "id": "ZTJMGjeKEPfY"
   }
  },
  {
   "cell_type": "markdown",
   "metadata": {
    "id": "dLIu-TZcvXKd"
   },
   "source": [
    "### 4.2. Number of trips ~ day of the week, hour of the day\n",
    "\n",
    "Display two additional graphs: number of trips per weekday and number of journeys per hour of the day.\n",
    "\n",
    "Display the number of trips per hour of the day and weekday (you can use the `sns.relplot` function).\n",
    "\n",
    "For weekdays, display the names and not the numbers."
   ]
  },
  {
   "cell_type": "code",
   "source": [
    "dict_weekday = {0: 'Monday', 1: 'Tuesday', 2: 'Wednesday', 3: 'Thursday', 4: 'Friday', 5: 'Saturday', 6: 'Sunday'}\n",
    "\n",
    "weekday = X['pickup_datetime'].dt.weekday.map(dict_weekday).rename('weekday')\n",
    "hourofday = X['pickup_datetime'].dt.hour.rename('hour')"
   ],
   "metadata": {
    "id": "JmrCMFduSWxS",
    "ExecuteTime": {
     "end_time": "2023-12-07T11:49:00.946481Z",
     "start_time": "2023-12-07T11:49:00.561410Z"
    }
   },
   "execution_count": 24,
   "outputs": []
  },
  {
   "cell_type": "code",
   "source": [
    "# fig, ax = plt.subplots(1,2)\n",
    "# sns.countplot(x=weekday, ax=ax[0])\n",
    "# ax[0].set(xlabel='weekday')\n",
    "# sns.countplot(x=hourofday, ax=ax[1])\n",
    "# ax[1].set(xlabel='hour')\n",
    "# ax[0].tick_params('x', labelrotation=45)\n",
    "# ax[1].tick_params('x', labelrotation=90)\n",
    "# plt.show()"
   ],
   "metadata": {
    "id": "8yEhQLrjDxke",
    "colab": {
     "base_uri": "https://localhost:8080/",
     "height": 396
    },
    "outputId": "f4b2a747-a20d-43ee-cc58-3021cb1bd32a"
   },
   "execution_count": null,
   "outputs": []
  },
  {
   "cell_type": "code",
   "source": [
    "# data_plot = X.groupby([weekday, hourofday]).size().rename('number of trips').reset_index()\n",
    "# sns.relplot(data=data_plot, x='weekday', y='hour', size='number of trips', sizes=(10,500))\n",
    "# plt.xticks(rotation=45)\n",
    "# plt.show()"
   ],
   "metadata": {
    "colab": {
     "base_uri": "https://localhost:8080/",
     "height": 559
    },
    "id": "kb9KYEULWHvf",
    "outputId": "47c3fd0d-fc3c-47af-dbba-4e3b38548c28"
   },
   "execution_count": null,
   "outputs": []
  },
  {
   "cell_type": "markdown",
   "metadata": {
    "id": "vcjh7gZELRQO"
   },
   "source": [
    "### 4.3. Number of trips ~ hour of the day for different months\n",
    "\n",
    "Display on a single graph the dependency of the number of trips and the hour of the day for different months (one curve per month). The curves corresponding to different months should be displayed in different colours.\n",
    "\n",
    "Also display a graph showing the dependency of the number of trips on the hour of the day for different days of the week (one curve per day of the week)."
   ]
  },
  {
   "cell_type": "code",
   "source": [
    "month = X.pickup_datetime.dt.month.rename('month')"
   ],
   "metadata": {
    "id": "VScXGTZ9UPb4",
    "ExecuteTime": {
     "end_time": "2023-12-07T11:49:06.810651800Z",
     "start_time": "2023-12-07T11:49:06.603655300Z"
    }
   },
   "execution_count": 25,
   "outputs": []
  },
  {
   "cell_type": "code",
   "source": [
    "data_plot = X.groupby([month, hourofday]).size().rename('number of trips').reset_index()\n",
    "sns.relplot(data=data_plot, x='hour', y='number of trips', hue='month', kind='line', height=3, aspect=4)\n",
    "plt.show()"
   ],
   "metadata": {
    "colab": {
     "base_uri": "https://localhost:8080/",
     "height": 222
    },
    "id": "WrrMNA38UKJa",
    "outputId": "9a65ae01-e2b3-4676-fbf2-f10e86c0f8e4",
    "ExecuteTime": {
     "end_time": "2023-12-07T11:49:09.355653Z",
     "start_time": "2023-12-07T11:49:07.366651800Z"
    }
   },
   "execution_count": 26,
   "outputs": [
    {
     "data": {
      "text/plain": "<Figure size 1263.62x300 with 1 Axes>",
      "image/png": "[encoded data removed]"
     },
     "metadata": {},
     "output_type": "display_data"
    }
   ]
  },
  {
   "cell_type": "code",
   "source": [
    "data_plot = X.groupby([weekday, hourofday]).size().rename('number of trips').reset_index()\n",
    "sns.relplot(data=data_plot, x='hour', y='number of trips', hue='weekday', kind='line', height=3, aspect=4)\n",
    "plt.show()"
   ],
   "metadata": {
    "colab": {
     "base_uri": "https://localhost:8080/",
     "height": 211
    },
    "id": "Ck3jvrrDVcbm",
    "outputId": "b3862273-ce84-453c-8c5f-e08184f85d61",
    "ExecuteTime": {
     "end_time": "2023-12-07T11:49:11.636654500Z",
     "start_time": "2023-12-07T11:49:09.341654800Z"
    }
   },
   "execution_count": 27,
   "outputs": [
    {
     "data": {
      "text/plain": "<Figure size 1335.5x300 with 1 Axes>",
      "image/png": "[encoded data removed]"
     },
     "metadata": {},
     "output_type": "display_data"
    }
   ]
  },
  {
   "cell_type": "markdown",
   "metadata": {
    "id": "q2D01cHvLRQP"
   },
   "source": [
    "Add your interpretation of the results."
   ]
  },
  {
   "cell_type": "markdown",
   "source": [
    "<font color='yellowgreen'>your text here</font>"
   ],
   "metadata": {
    "id": "lSe7xJxmEV-0"
   }
  },
  {
   "cell_type": "markdown",
   "metadata": {
    "id": "3h8_NrD-VIKE"
   },
   "source": [
    "### 4.4. Trip duration ~ date, day of the week, hour of the day\n",
    "\n",
    "Display the distribution of the average target value by the date, the day of the week, and the time of the day."
   ]
  },
  {
   "cell_type": "code",
   "source": [
    "# sns.barplot(x=X['pickup_date'], y=y)\n",
    "# plt.show()"
   ],
   "metadata": {
    "colab": {
     "base_uri": "https://localhost:8080/",
     "height": 351
    },
    "id": "6Hz3e0q8TFVA",
    "outputId": "424e4aa8-51d4-44ec-937d-04d41eed7a29"
   },
   "execution_count": null,
   "outputs": []
  },
  {
   "cell_type": "code",
   "source": [
    "# sns.barplot(x=weekday, y=y)\n",
    "# plt.show()"
   ],
   "metadata": {
    "id": "XoF_eg6iIQyc",
    "colab": {
     "base_uri": "https://localhost:8080/",
     "height": 361
    },
    "outputId": "6cc7c3d4-7453-438f-a5c0-9ebe04d91978"
   },
   "execution_count": null,
   "outputs": []
  },
  {
   "cell_type": "code",
   "source": [
    "# sns.barplot(x=hourofday, y=y)\n",
    "# plt.show()"
   ],
   "metadata": {
    "colab": {
     "base_uri": "https://localhost:8080/",
     "height": 361
    },
    "id": "PpOtwbyRTOMx",
    "outputId": "19d60d2c-61a3-4915-e4b4-6fe8e4533a96"
   },
   "execution_count": null,
   "outputs": []
  },
  {
   "cell_type": "markdown",
   "metadata": {
    "id": "RirtytxtLRQP"
   },
   "source": [
    "**Question**: Display the graphs showing the dependency of the target variable on the day of the week and the time of day. What happens to the target variable during the two special periods seen before? Why? Are there any trends in the graph of `log_trip_duration` in relation to the day of the year?"
   ]
  },
  {
   "cell_type": "code",
   "source": [
    "# fig, ax = plt.subplots(1,2)\n",
    "# \n",
    "# data_plot0 = X.groupby([weekday, hourofday]).size().rename('number of trips').reset_index()\n",
    "# sns.scatterplot(data=data_plot0, x='weekday', y='hour', size='number of trips', sizes=(10,500), ax=ax[0])\n",
    "# ax[0].set_title('Number of trips')\n",
    "# ax[0].tick_params('x', labelrotation=45)\n",
    "# ax[0].legend(loc=\"upper right\")\n",
    "# \n",
    "# data_plot1 = y.groupby([weekday, hourofday]).mean().rename('mean_target').reset_index()\n",
    "# sns.scatterplot(data=data_plot1, x='weekday', y='hour', size='mean_target', sizes=(10,500), ax=ax[1])\n",
    "# ax[1].set_title('Mean target')\n",
    "# ax[1].tick_params('x', labelrotation=90)\n",
    "# ax[1].legend(loc=\"upper right\")\n",
    "# \n",
    "# plt.show()"
   ],
   "metadata": {
    "colab": {
     "base_uri": "https://localhost:8080/",
     "height": 443
    },
    "id": "1Kae6bTmQdVd",
    "outputId": "bea63647-db86-4c49-9e67-a6753f21a1c7"
   },
   "execution_count": null,
   "outputs": []
  },
  {
   "cell_type": "markdown",
   "metadata": {
    "id": "Yn3uJLdAbfY_"
   },
   "source": [
    "<font color='yellowgreen'>your text here</font>"
   ]
  },
  {
   "cell_type": "markdown",
   "metadata": {
    "id": "jrz8JjuGLRQP"
   },
   "source": [
    "### 4.5. New features\n",
    "\n",
    "Add new variables based on `pickup_datetime`:\n",
    "\n",
    "1.   Day of week\n",
    "2.   Month\n",
    "3.   Time of day\n",
    "4.   If the period is \"abnormal\" (two binary variables for two periods detected)\n",
    "5.   Day of the year"
   ]
  },
  {
   "cell_type": "code",
   "metadata": {
    "id": "nIFbY23pLRQP",
    "ExecuteTime": {
     "end_time": "2023-12-07T11:51:21.589914400Z",
     "start_time": "2023-12-07T11:51:17.976921Z"
    }
   },
   "source": [
    "def step1_add_features(X):\n",
    "  res = X.copy()\n",
    "  res['weekday'] = res['pickup_datetime'].dt.weekday\n",
    "  res['month'] = res['pickup_datetime'].dt.month\n",
    "  res['hour'] = res['pickup_datetime'].dt.hour\n",
    "  res['abnormal_period'] = res['pickup_datetime'].dt.date.isin(abnormal_dates.index).astype(int)\n",
    "  return res\n",
    "\n",
    "X = step1_add_features(X)\n",
    "X_train = step1_add_features(X_train)\n",
    "X_test = step1_add_features(X_test)"
   ],
   "execution_count": 28,
   "outputs": []
  },
  {
   "cell_type": "code",
   "source": [
    "# check the transformation\n",
    "display(X['weekday'].value_counts().head())\n",
    "display(X['month'].value_counts().head())\n",
    "display(X['hour'].value_counts().head())\n",
    "display(X['abnormal_period'].value_counts())"
   ],
   "metadata": {
    "colab": {
     "base_uri": "https://localhost:8080/",
     "height": 393
    },
    "id": "rMX2DllMlNFI",
    "outputId": "9e60b519-edd6-44a0-858e-18c231886282"
   },
   "execution_count": null,
   "outputs": []
  },
  {
   "cell_type": "markdown",
   "metadata": {
    "id": "IHGFFKsgLRQQ"
   },
   "source": [
    "**Question**: Which of the variables should be considered as categorical and which as numerical? Why?"
   ]
  },
  {
   "cell_type": "markdown",
   "metadata": {
    "id": "qNKmL9DYbwLG"
   },
   "source": [
    "<font color='yellowgreen'>your text here</font>"
   ]
  },
  {
   "cell_type": "markdown",
   "metadata": {
    "id": "ohcuPu-HLRQQ"
   },
   "source": [
    "### 4.6. Ridge regression\n",
    "\n",
    "* Use only the features we have worked with up to now.\n",
    "* Encode categorical features using `OneHotEncoder`.\n",
    "* Scale numerical features using the `StandardScaler`.\n",
    "* Train Ridge regression with the default settings."
   ]
  },
  {
   "cell_type": "code",
   "source": [
    "X.columns"
   ],
   "metadata": {
    "colab": {
     "base_uri": "https://localhost:8080/"
    },
    "id": "aMyekl1roa8o",
    "outputId": "791a56cb-edc9-4e90-c444-7642f8118a32"
   },
   "execution_count": null,
   "outputs": []
  },
  {
   "cell_type": "code",
   "source": [
    "from sklearn.pipeline import Pipeline\n",
    "from sklearn.compose import ColumnTransformer\n",
    "from sklearn.preprocessing import OneHotEncoder\n",
    "from sklearn.preprocessing import StandardScaler\n",
    "\n",
    "from sklearn.linear_model import Ridge\n",
    "from sklearn.metrics import mean_squared_error\n",
    "from sklearn.metrics import r2_score"
   ],
   "metadata": {
    "id": "TNlIXPlyOTFU"
   },
   "execution_count": null,
   "outputs": []
  },
  {
   "cell_type": "code",
   "metadata": {
    "id": "zAX7k-VSLRQQ",
    "colab": {
     "base_uri": "https://localhost:8080/"
    },
    "outputId": "c453a947-af11-40b3-fcb1-63e55cb5430e"
   },
   "source": [
    "num_features = ['abnormal_period', 'hour']\n",
    "cat_features = ['weekday', 'month']\n",
    "train_features = num_features + cat_features\n",
    "\n",
    "column_transformer = ColumnTransformer([\n",
    "    ('ohe', OneHotEncoder(handle_unknown=\"ignore\"), cat_features),\n",
    "    ('scaling', StandardScaler(), num_features)]\n",
    ")\n",
    "\n",
    "pipeline = Pipeline(steps=[\n",
    "    ('ohe_and_scaling', column_transformer),\n",
    "    ('regression', Ridge())\n",
    "])\n",
    "\n",
    "model = pipeline.fit(X_train[train_features], y_train)\n",
    "y_pred_train = model.predict(X_train[train_features])\n",
    "y_pred_test = model.predict(X_test[train_features])\n",
    "\n",
    "print(\"Train RMSE = %.4f\" % mean_squared_error(y_train, y_pred_train, squared=False))\n",
    "print(\"Test RMSE = %.4f\" % mean_squared_error(y_test, y_pred_test, squared=False))\n",
    "print(\"Test R2 = %.4f\" % r2_score(y_test, y_pred_test))"
   ],
   "execution_count": null,
   "outputs": []
  },
  {
   "cell_type": "markdown",
   "metadata": {
    "id": "V4OOi8MyLRQQ"
   },
   "source": [
    "## Task 5. Coordinates analysis\n",
    "\n",
    "Below you will find the definition of the `show_circles_on_map` function, which displays the start and end points on a map. Examples of how to call this function can also be found below. We don't pass all the available data to the function, but only a sample, to reduce execution time."
   ]
  },
  {
   "cell_type": "markdown",
   "metadata": {
    "id": "EZaXmXYiLRP6"
   },
   "source": [
    "### 5.1. Folium\n",
    "\n",
    "Install `folium` library to visualize geographical maps."
   ]
  },
  {
   "cell_type": "code",
   "source": [
    "%%capture\n",
    "!pip install folium"
   ],
   "metadata": {
    "id": "s27tsydHExak"
   },
   "execution_count": null,
   "outputs": []
  },
  {
   "cell_type": "code",
   "metadata": {
    "scrolled": true,
    "id": "c7UNkx33LRP-",
    "colab": {
     "base_uri": "https://localhost:8080/",
     "height": 559
    },
    "outputId": "5166277d-3cb5-4440-a47e-1917eec098f2"
   },
   "source": [
    "import folium\n",
    "\n",
    "folium.Map(location=(43.44626936228708, -1.553731439410459), zoom_start=50)"
   ],
   "execution_count": null,
   "outputs": []
  },
  {
   "cell_type": "code",
   "metadata": {
    "id": "4qjN2r-5LRQQ"
   },
   "source": [
    "def show_circles_on_map(data, latitude_column, longitude_column, color):\n",
    "    \"\"\"\n",
    "    The function draws map with circles on it.\n",
    "    The center of the map is the mean of coordinates passed in data.\n",
    "\n",
    "    data: DataFrame that contains columns latitude_column and longitude_column\n",
    "    latitude_column: string, the name of column for latitude coordinates\n",
    "    longitude_column: string, the name of column for longitude coordinates\n",
    "    color: string, the color of circles to be drawn\n",
    "    \"\"\"\n",
    "\n",
    "    location = (data[latitude_column].mean(), data[longitude_column].mean())\n",
    "    m = folium.Map(location=location)\n",
    "\n",
    "    for _, row in data.iterrows():\n",
    "        folium.Circle(\n",
    "            radius=100,\n",
    "            location=(row[latitude_column], row[longitude_column]),\n",
    "            color=color,\n",
    "            fill_color=color,\n",
    "            fill=True\n",
    "        ).add_to(m)\n",
    "\n",
    "    return m"
   ],
   "execution_count": null,
   "outputs": []
  },
  {
   "cell_type": "code",
   "metadata": {
    "id": "cVE1OTkcLRQR",
    "colab": {
     "base_uri": "https://localhost:8080/",
     "height": 559
    },
    "outputId": "7776e3b6-f2c9-4c94-a166-4507738972a7"
   },
   "source": [
    "show_circles_on_map(data.sample(1000), \"pickup_latitude\", \"pickup_longitude\", \"blue\")"
   ],
   "execution_count": null,
   "outputs": []
  },
  {
   "cell_type": "markdown",
   "metadata": {
    "id": "SpOZfOcdLRQS"
   },
   "source": [
    "**Question**: Are there any points that are very different from the majority of the points?"
   ]
  },
  {
   "cell_type": "markdown",
   "metadata": {
    "id": "YxA7MgDMcq0o"
   },
   "source": [
    "<font color='yellowgreen'>your text here</font>"
   ]
  },
  {
   "cell_type": "markdown",
   "metadata": {
    "id": "ZyIS5gAGLRQS"
   },
   "source": [
    "### 5.2. Distance estimation\n",
    "\n",
    "The duration of the trip depends on the distance and the time: $t = s / v_{\\text{mean}}$. Distance would be very important for predicting duration. We cannot calculate the exact distance corresponding to a trip, but we can estimate it by calculating the minimum distance between the departure and arrival points. To correctly calculate the distance between two points on Earth, we can use the `haversine` function. Add a new column with the distance calculated using the `haversine` function (see the code below)."
   ]
  },
  {
   "cell_type": "code",
   "metadata": {
    "id": "ppqSkeE6LRQS"
   },
   "source": [
    "def haversine_array(lat1, lng1, lat2, lng2):\n",
    "    lat1, lng1, lat2, lng2 = map(np.radians, (lat1, lng1, lat2, lng2))\n",
    "    AVG_EARTH_RADIUS = 6371  # in km\n",
    "    lat = lat2 - lat1\n",
    "    lng = lng2 - lng1\n",
    "    d = np.sin(lat * 0.5) ** 2 + np.cos(lat1) * np.cos(lat2) * np.sin(lng * 0.5) ** 2\n",
    "    h = 2 * AVG_EARTH_RADIUS * np.arcsin(np.sqrt(d))\n",
    "    return h"
   ],
   "execution_count": null,
   "outputs": []
  },
  {
   "cell_type": "code",
   "metadata": {
    "id": "8VBwMK3ncqut"
   },
   "source": [
    "distance_haversine = haversine_array(X.pickup_latitude, X.pickup_longitude, X.dropoff_latitude, X.dropoff_longitude)"
   ],
   "execution_count": null,
   "outputs": []
  },
  {
   "cell_type": "markdown",
   "metadata": {
    "id": "y6u-4rg4LRQT"
   },
   "source": [
    "Since the target variable is the logarithm of the trip duration and in order to try to build a linear model to predict these values, it is necessary to calculate the logarithm of the distance: $\\log t = \\log s - \\log{v_{\\text{mean}}}$. Add a new feature with the logarithm of `haversine`."
   ]
  },
  {
   "cell_type": "code",
   "metadata": {
    "id": "0Nq1UHkPLRQT"
   },
   "source": [
    "log_distance_haversine = np.log1p(distance_haversine)"
   ],
   "execution_count": null,
   "outputs": []
  },
  {
   "cell_type": "markdown",
   "metadata": {
    "id": "c3Bmr1gzLRQT"
   },
   "source": [
    "Check whether the logarithm of the haversine distance correlates better with the target variable than the distance itself."
   ]
  },
  {
   "cell_type": "code",
   "metadata": {
    "id": "D8b2Brt5LRQU",
    "colab": {
     "base_uri": "https://localhost:8080/"
    },
    "outputId": "5f094431-7bb5-4c4f-dbb2-faf6cd01b9a7"
   },
   "source": [
    "print(f'Correlation between target and distance_haversine: {np.corrcoef(x=distance_haversine,y=y)[0,1]:.2f}')\n",
    "print(f'Correlation between target and log_distance_haversine: {np.corrcoef(x=log_distance_haversine,y=y)[0,1]:.2f}')"
   ],
   "execution_count": null,
   "outputs": []
  },
  {
   "cell_type": "markdown",
   "metadata": {
    "id": "75c1qPFoLRQU"
   },
   "source": [
    "### 5.3. Speed estimation\n",
    "\n",
    "Calculate the average speed for each trip in the training sample: `haversine` divided by `trip_duration`. Display the distribution of average speed values."
   ]
  },
  {
   "cell_type": "code",
   "metadata": {
    "id": "mNkQu005LRQU",
    "colab": {
     "base_uri": "https://localhost:8080/",
     "height": 363
    },
    "outputId": "d1d42058-ca2e-4b89-d635-7c80484ebd8a"
   },
   "source": [
    "avg_speed = distance_haversine / np.expm1(y)\n",
    "avg_speed.hist()\n",
    "plt.title('Average speed, km/s')\n",
    "plt.show()"
   ],
   "execution_count": null,
   "outputs": []
  },
  {
   "cell_type": "markdown",
   "metadata": {
    "id": "oOZxpTGBLRQU"
   },
   "source": [
    "As you can see from this histogram, there are outliers. Filter the data, for example by removing values greater than a certain percentile, and display again the distribution."
   ]
  },
  {
   "cell_type": "code",
   "metadata": {
    "id": "BbvdLsHJdIE3",
    "colab": {
     "base_uri": "https://localhost:8080/",
     "height": 355
    },
    "outputId": "1898abde-e3b4-4c26-f566-b180e1cf921d"
   },
   "source": [
    "avg_speed[avg_speed<avg_speed.quantile(0.99)].hist(bins=100)\n",
    "plt.title('Average speed, km/s')\n",
    "plt.show()"
   ],
   "execution_count": null,
   "outputs": []
  },
  {
   "cell_type": "code",
   "source": [
    "(avg_speed[avg_speed<avg_speed.quantile(0.99)]*3600).hist(bins=100)\n",
    "plt.title('Average speed, km/h')\n",
    "plt.show()"
   ],
   "metadata": {
    "colab": {
     "base_uri": "https://localhost:8080/",
     "height": 355
    },
    "id": "SBstqDyPuVNa",
    "outputId": "0fa7ce5b-f15c-41e1-aafa-3965488b2878"
   },
   "execution_count": null,
   "outputs": []
  },
  {
   "cell_type": "markdown",
   "metadata": {
    "id": "Acw4xIcgLRQV"
   },
   "source": [
    "For each tuple (day of the week, time of day) calculate the median speed. Display a heatmap with the results."
   ]
  },
  {
   "cell_type": "code",
   "metadata": {
    "id": "tfWxwOqELRQV",
    "colab": {
     "base_uri": "https://localhost:8080/",
     "height": 409
    },
    "outputId": "3791814c-da67-400e-d19c-77e5e21ef597"
   },
   "source": [
    "data_plot = avg_speed.groupby([X['weekday'], X['hour']]).median().rename('avg_speed').reset_index()\n",
    "data_plot = data_plot.pivot(index='weekday', columns='hour', values='avg_speed')\n",
    "\n",
    "f, ax = plt.subplots(figsize=(16, 12))\n",
    "sns.heatmap(data_plot*3600, annot=True, fmt=\".1f\", linewidths=0.1, square=True, cmap=\"RdBu\", cbar_kws=dict(use_gridspec=False, location=\"top\"))\n",
    "plt.title('Average speed, km/h')\n",
    "plt.show()"
   ],
   "execution_count": null,
   "outputs": []
  },
  {
   "cell_type": "markdown",
   "metadata": {
    "id": "ebtd05U-LRQV"
   },
   "source": [
    "**Warning** : The variable containing the speed must be dropped before training a linear model (cf. https://en.wikipedia.org/wiki/Multicollinearity)."
   ]
  },
  {
   "cell_type": "markdown",
   "metadata": {
    "id": "8kGtQRpFLRQV"
   },
   "source": [
    "**Question**: How can you interpret the graph above: when the speed is minimum and when it is maximum?"
   ]
  },
  {
   "cell_type": "markdown",
   "source": [
    "<font color='yellowgreen'>your text here</font>"
   ],
   "metadata": {
    "id": "kEWwKXQCDAsH"
   }
  },
  {
   "cell_type": "markdown",
   "source": [
    "Add new binary variables `high traffic trip` and `high speed trip` (don't use speed feature to calculate the values of these features)."
   ],
   "metadata": {
    "id": "nj67u-UVDD4e"
   }
  },
  {
   "cell_type": "code",
   "metadata": {
    "id": "EpwufiO5LRQW"
   },
   "source": [
    "def is_high_traffic_trip(X):\n",
    "  return ((X['hour'] >= 8) & (X['hour'] <= 19) & (X['weekday'] >= 0) & (X['weekday'] <= 4)) | \\\n",
    "         ((X['hour'] >= 13) & (X['hour'] <= 20) & (X['weekday'] == 5))\n",
    "\n",
    "def is_high_speed_trip(X):\n",
    "  return ((X['hour'] >= 2) & (X['hour'] <= 5) & (X['weekday'] >= 0) & (X['weekday'] <= 4)) | \\\n",
    "         ((X['hour'] >= 4) & (X['hour'] <= 7) & (X['weekday'] >= 5) & (X['weekday'] <= 6))"
   ],
   "execution_count": null,
   "outputs": []
  },
  {
   "cell_type": "code",
   "source": [
    "# test is_high_traffic_trip function\n",
    "high_traffic_trip_vec = is_high_traffic_trip(X).astype(int).rename('is_high_traffic_trip')\n",
    "\n",
    "data_plot = pd.concat([X[['weekday', 'hour']], high_traffic_trip_vec], axis=1)\n",
    "data_plot = data_plot.groupby(['weekday', 'hour'])['is_high_traffic_trip'].mean().reset_index()\n",
    "data_plot = data_plot.pivot(index='weekday', columns='hour', values='is_high_traffic_trip')\n",
    "\n",
    "f, ax = plt.subplots(figsize=(16, 12))\n",
    "sns.heatmap(data_plot, annot=True, fmt=\".0f\", linewidths=0.1, square=True, cmap=\"RdBu\", cbar_kws=dict(use_gridspec=False, location=\"top\"))\n",
    "plt.title('High traffic trip')\n",
    "plt.show()"
   ],
   "metadata": {
    "colab": {
     "base_uri": "https://localhost:8080/",
     "height": 405
    },
    "id": "j8fOjCJT8P73",
    "outputId": "646aa168-0eb6-42bc-ebd3-7acea0f500ad"
   },
   "execution_count": null,
   "outputs": []
  },
  {
   "cell_type": "code",
   "source": [
    "# test is_high_traffic_trip function\n",
    "high_speed_trip_vec = is_high_speed_trip(X).astype(int).rename('is_high_speed_trip')\n",
    "\n",
    "data_plot = pd.concat([X[['weekday', 'hour']], high_speed_trip_vec], axis=1)\n",
    "data_plot = data_plot.groupby(['weekday', 'hour'])['is_high_speed_trip'].mean().reset_index()\n",
    "data_plot = data_plot.pivot(index='weekday', columns='hour', values='is_high_speed_trip')\n",
    "\n",
    "f, ax = plt.subplots(figsize=(16, 12))\n",
    "sns.heatmap(data_plot, annot=True, fmt=\".0f\", linewidths=0.1, square=True, cmap=\"RdBu\", cbar_kws=dict(use_gridspec=False, location=\"top\"))\n",
    "plt.title('High speed trip')\n",
    "plt.show()"
   ],
   "metadata": {
    "colab": {
     "base_uri": "https://localhost:8080/",
     "height": 405
    },
    "id": "2XORsC1t-TPm",
    "outputId": "34c68db8-fe72-41bf-8f68-9c30d683036a"
   },
   "execution_count": null,
   "outputs": []
  },
  {
   "cell_type": "markdown",
   "metadata": {
    "id": "CCFi4ONqLRQW"
   },
   "source": [
    "### 5.4. Outliers\n",
    "\n",
    "On the map you can see some points that are quite far from Manhattan. Add new features: whether the trip starts or ends at such a point."
   ]
  },
  {
   "cell_type": "code",
   "source": [
    "def is_rare_point(X, latitude_column, longitude_column, qmin_lat, qmax_lat, qmin_lon, qmax_lon):\n",
    "  lat_min = X[latitude_column].quantile(qmin_lat)\n",
    "  lat_max = X[latitude_column].quantile(qmax_lat)\n",
    "  lon_min = X[longitude_column].quantile(qmin_lon)\n",
    "  lon_max = X[longitude_column].quantile(qmax_lon)\n",
    "\n",
    "  res = (X[latitude_column] < lat_min) | (X[latitude_column] > lat_max) | \\\n",
    "        (X[longitude_column] < lon_min) | (X[longitude_column] > lon_max)\n",
    "  return res"
   ],
   "metadata": {
    "id": "kd5zqaK3Cs5Y"
   },
   "execution_count": null,
   "outputs": []
  },
  {
   "cell_type": "code",
   "source": [
    "latitude_column, longitude_column = \"pickup_latitude\", \"pickup_longitude\"\n",
    "\n",
    "is_rare_point_vec = is_rare_point(X, latitude_column, longitude_column, 0.01, 0.995, 0, 0.95)\n",
    "m = show_circles_on_map(data[~is_rare_point_vec].sample(1000), latitude_column, longitude_column, \"blue\")\n",
    "\n",
    "rare_points = X[[latitude_column, longitude_column]][is_rare_point_vec]\n",
    "color_rare = 'red'\n",
    "\n",
    "for _, row in rare_points.sample(100).iterrows():\n",
    "    folium.Circle(\n",
    "        radius=100,\n",
    "        location=(row[latitude_column], row[longitude_column]),\n",
    "        color=color_rare,\n",
    "        fill_color=color_rare,\n",
    "        fill=True\n",
    "    ).add_to(m)\n",
    "m"
   ],
   "metadata": {
    "colab": {
     "base_uri": "https://localhost:8080/",
     "height": 559
    },
    "id": "R2puCP6p_YTV",
    "outputId": "9819a8e7-c0b8-4b90-b8ca-33bcb6850338"
   },
   "execution_count": null,
   "outputs": []
  },
  {
   "cell_type": "code",
   "source": [
    "latitude_column, longitude_column = \"dropoff_latitude\", \"dropoff_longitude\"\n",
    "\n",
    "is_rare_point_vec = is_rare_point(X, latitude_column, longitude_column, 0.01, 0.995, 0.005, 0.95)\n",
    "m = show_circles_on_map(data[~is_rare_point_vec].sample(1000), latitude_column, longitude_column, \"blue\")\n",
    "\n",
    "rare_points = X[[latitude_column, longitude_column]][is_rare_point_vec]\n",
    "color_rare = 'red'\n",
    "\n",
    "for _, row in rare_points.sample(100).iterrows():\n",
    "    folium.Circle(\n",
    "        radius=100,\n",
    "        location=(row[latitude_column], row[longitude_column]),\n",
    "        color=color_rare,\n",
    "        fill_color=color_rare,\n",
    "        fill=True\n",
    "    ).add_to(m)\n",
    "m"
   ],
   "metadata": {
    "colab": {
     "base_uri": "https://localhost:8080/",
     "height": 559
    },
    "id": "rz6ftcRAIqZF",
    "outputId": "1227d270-afe6-46fc-ef6a-a39f477a2b53"
   },
   "execution_count": null,
   "outputs": []
  },
  {
   "cell_type": "markdown",
   "source": [
    "### 5.5 Check new features\n",
    "\n",
    "For each new categorical feature, display box plots showing the distribution of the target."
   ],
   "metadata": {
    "id": "gAItAJpo_Gib"
   }
  },
  {
   "cell_type": "code",
   "source": [
    "def step2_add_features(X):\n",
    "  res = X.copy()\n",
    "  distance_haversine = haversine_array(res.pickup_latitude, res.pickup_longitude, res.dropoff_latitude, res.dropoff_longitude)\n",
    "  res['log_distance_haversine'] = np.log1p(distance_haversine)\n",
    "  res['is_high_traffic_trip'] = is_high_traffic_trip(X).astype(int)\n",
    "  res['is_high_speed_trip'] = is_high_traffic_trip(X).astype(int)\n",
    "  res['is_rare_pickup_point'] = is_rare_point(X, \"pickup_latitude\", \"pickup_longitude\", 0.01, 0.995, 0, 0.95).astype(int)\n",
    "  res['is_rare_dropoff_point'] = is_rare_point(X, \"dropoff_latitude\", \"dropoff_longitude\", 0.01, 0.995, 0.005, 0.95).astype(int)\n",
    "\n",
    "  return res\n",
    "\n",
    "X = step2_add_features(X)\n",
    "X_train = step2_add_features(X_train)\n",
    "X_test = step2_add_features(X_test)"
   ],
   "metadata": {
    "id": "tVoa4Baj5BJy"
   },
   "execution_count": null,
   "outputs": []
  },
  {
   "cell_type": "code",
   "metadata": {
    "id": "pWkVT_GxLRQW",
    "colab": {
     "base_uri": "https://localhost:8080/",
     "height": 501
    },
    "outputId": "4a14d67c-4dcb-4855-91b7-2478fa02c8e0"
   },
   "source": [
    "sns.relplot(data=X, x='log_distance_haversine', y=y)\n",
    "plt.show()"
   ],
   "execution_count": null,
   "outputs": []
  },
  {
   "cell_type": "code",
   "source": [
    "fig, ax = plt.subplots(nrows=1, ncols=2, figsize=(20, 8))\n",
    "\n",
    "sns.boxplot(x=X['is_high_traffic_trip'], y=y, ax=ax[0])\n",
    "sns.boxplot(x=X['is_high_speed_trip'], y=y, ax=ax[1])\n",
    "plt.show()"
   ],
   "metadata": {
    "colab": {
     "base_uri": "https://localhost:8080/",
     "height": 399
    },
    "id": "kq765I1EK1Sz",
    "outputId": "89285b25-484c-46ad-df78-7cf846c4a960"
   },
   "execution_count": null,
   "outputs": []
  },
  {
   "cell_type": "code",
   "source": [
    "fig, ax = plt.subplots(nrows=1, ncols=2, figsize=(20, 8))\n",
    "\n",
    "sns.boxplot(x=X['is_rare_pickup_point'], y=y, ax=ax[0])\n",
    "sns.boxplot(x=X['is_rare_dropoff_point'], y=y, ax=ax[1])\n",
    "plt.show()"
   ],
   "metadata": {
    "colab": {
     "base_uri": "https://localhost:8080/",
     "height": 399
    },
    "id": "pAY1tIkcLTgt",
    "outputId": "c5917414-3242-4354-f54e-1f97b7f2157e"
   },
   "execution_count": null,
   "outputs": []
  },
  {
   "cell_type": "markdown",
   "metadata": {
    "id": "0s2PEKGDLRQW"
   },
   "source": [
    "**Question**: Add your interpretation: could these variables be useful?"
   ]
  },
  {
   "cell_type": "markdown",
   "metadata": {
    "id": "u1QZ7X5Lgd43"
   },
   "source": [
    "<font color='yellowgreen'>your text here</font>"
   ]
  },
  {
   "cell_type": "markdown",
   "metadata": {
    "id": "hltnyrFSjxZo"
   },
   "source": [
    "### 5.6. Ridge regression\n",
    "\n",
    "* Use only the features we have worked with up to now.\n",
    "* Encode categorical features using `OneHotEncoder`.\n",
    "* Scale numerical features using the `StandardScaler`.\n",
    "* Train Ridge regression with the default settings."
   ]
  },
  {
   "cell_type": "code",
   "source": [
    "X.columns"
   ],
   "metadata": {
    "colab": {
     "base_uri": "https://localhost:8080/"
    },
    "id": "IIVX5QlZLve2",
    "outputId": "f3b566d9-c038-40cc-ffa1-77084b165204"
   },
   "execution_count": null,
   "outputs": []
  },
  {
   "cell_type": "code",
   "metadata": {
    "id": "Wo1GRYcULRQX",
    "colab": {
     "base_uri": "https://localhost:8080/"
    },
    "outputId": "1816c7e0-eaab-46a1-b47a-15fbcda2c328"
   },
   "source": [
    "num_features = ['log_distance_haversine', 'hour',\n",
    "                'abnormal_period', 'is_high_traffic_trip', 'is_high_speed_trip',\n",
    "                'is_rare_pickup_point', 'is_rare_dropoff_point']\n",
    "cat_features = ['weekday', 'month']\n",
    "train_features = num_features + cat_features\n",
    "\n",
    "column_transformer = ColumnTransformer([\n",
    "    ('ohe', OneHotEncoder(handle_unknown=\"ignore\"), cat_features),\n",
    "    ('scaling', StandardScaler(), num_features)]\n",
    ")\n",
    "\n",
    "pipeline = Pipeline(steps=[\n",
    "    ('ohe_and_scaling', column_transformer),\n",
    "    ('regression', Ridge())\n",
    "])\n",
    "\n",
    "model = pipeline.fit(X_train[train_features], y_train)\n",
    "y_pred_train = model.predict(X_train[train_features])\n",
    "y_pred_test = model.predict(X_test[train_features])\n",
    "\n",
    "print(\"Train RMSE = %.4f\" % mean_squared_error(y_train, y_pred_train, squared=False))\n",
    "print(\"Test RMSE = %.4f\" % mean_squared_error(y_test, y_pred_test, squared=False))\n",
    "print(\"Test R2 = %.4f\" % r2_score(y_test, y_pred_test))"
   ],
   "execution_count": null,
   "outputs": []
  },
  {
   "cell_type": "markdown",
   "metadata": {
    "id": "VOqp1wHeLRQX"
   },
   "source": [
    "## Task 6. Other features analysis"
   ]
  },
  {
   "cell_type": "markdown",
   "source": [
    "### 6.1. `vendor_id`, `passenger_count`, `store_and_fwd_flag`\n",
    "\n",
    "There are 3 more variables: `vendor_id`, `passenger_count` and `store_and_fwd_flag`. Display the unique values for each of them and the corresponding number of trips."
   ],
   "metadata": {
    "id": "5ZhdPUf2J56A"
   }
  },
  {
   "cell_type": "code",
   "source": [
    "X['vendor_id'].value_counts()"
   ],
   "metadata": {
    "colab": {
     "base_uri": "https://localhost:8080/"
    },
    "id": "4IZ2j1JTMm1E",
    "outputId": "252dac48-a138-424a-edeb-a81482f65927"
   },
   "execution_count": null,
   "outputs": []
  },
  {
   "cell_type": "code",
   "source": [
    "X['passenger_count'].value_counts()"
   ],
   "metadata": {
    "colab": {
     "base_uri": "https://localhost:8080/"
    },
    "id": "00GqRMV3Mtrz",
    "outputId": "db99d147-f7c3-403a-ad68-130ce48a2ad9"
   },
   "execution_count": null,
   "outputs": []
  },
  {
   "cell_type": "code",
   "source": [
    "X['store_and_fwd_flag'].value_counts()"
   ],
   "metadata": {
    "colab": {
     "base_uri": "https://localhost:8080/"
    },
    "id": "VU3TVyuyMuM4",
    "outputId": "17c10703-91ff-4794-8548-6a0806f0f5a6"
   },
   "execution_count": null,
   "outputs": []
  },
  {
   "cell_type": "markdown",
   "metadata": {
    "id": "Vg1j8k_bLRQX"
   },
   "source": [
    "Display the distribution of the target by the values of the following variables: `vendor_id`, `passenger_count` and `store_and_fwd_flag`."
   ]
  },
  {
   "cell_type": "code",
   "source": [
    "fig, ax = plt.subplots(nrows=1, ncols=3, figsize=(20, 8))\n",
    "\n",
    "sns.boxplot(x=X['vendor_id'], y=y, ax=ax[0])\n",
    "sns.boxplot(x=X['passenger_count'], y=y, ax=ax[1])\n",
    "sns.boxplot(x=X['store_and_fwd_flag'], y=y, ax=ax[2])\n",
    "plt.show()"
   ],
   "metadata": {
    "colab": {
     "base_uri": "https://localhost:8080/",
     "height": 399
    },
    "id": "2mzO3FHDM3Mw",
    "outputId": "6e1085a3-cb04-41bf-8291-81dc3b265cc1"
   },
   "execution_count": null,
   "outputs": []
  },
  {
   "cell_type": "markdown",
   "metadata": {
    "id": "rjsB3IQULRQY"
   },
   "source": [
    "**Question**: Add your interpretation of these graphs: do you think these features could be useful for the model?"
   ]
  },
  {
   "cell_type": "markdown",
   "metadata": {
    "id": "OW0Ct9rNkmrd"
   },
   "source": [
    "<font color='yellowgreen'>your text here</font>"
   ]
  },
  {
   "cell_type": "markdown",
   "metadata": {
    "id": "Luyc_fTdLRQY"
   },
   "source": [
    "Change the `vendor_id` and `store_and_fwd_flag` variables so that their values are: $\\{0;1\\}$."
   ]
  },
  {
   "cell_type": "code",
   "metadata": {
    "id": "PwBcedGhLRQY"
   },
   "source": [
    "def step3_process_features(X):\n",
    "  res = X.copy()\n",
    "  res['vendor_id'] = res['vendor_id'].map({1:0, 2:1})\n",
    "  res['store_and_fwd_flag'] = res['store_and_fwd_flag'].map({'N':0, 'Y':1})\n",
    "  res.loc[res['passenger_count'] > 6, 'passenger_count'] = 6\n",
    "\n",
    "  return res\n",
    "\n",
    "X = step3_process_features(X)\n",
    "X_train = step3_process_features(X_train)\n",
    "X_test = step3_process_features(X_test)"
   ],
   "execution_count": null,
   "outputs": []
  },
  {
   "cell_type": "code",
   "source": [
    "fig, ax = plt.subplots(nrows=1, ncols=3, figsize=(20, 8))\n",
    "\n",
    "sns.boxplot(x=X['vendor_id'], y=y, ax=ax[0])\n",
    "sns.boxplot(x=X['passenger_count'], y=y, ax=ax[1])\n",
    "sns.boxplot(x=X['store_and_fwd_flag'], y=y, ax=ax[2])\n",
    "plt.show()"
   ],
   "metadata": {
    "colab": {
     "base_uri": "https://localhost:8080/",
     "height": 399
    },
    "id": "Aer_btFsNk2-",
    "outputId": "9e900032-751f-4a23-8c3e-1c8454a606dc"
   },
   "execution_count": null,
   "outputs": []
  },
  {
   "cell_type": "markdown",
   "metadata": {
    "id": "DosW7wu1LRQY"
   },
   "source": [
    "### 6.2. Ridge regression\n",
    "\n",
    "* Use only the features we have worked with up to now.\n",
    "* Encode categorical features using `OneHotEncoder`.\n",
    "* Scale numerical features using the `StandardScaler`.\n",
    "* Train Ridge regression with the default settings."
   ]
  },
  {
   "cell_type": "code",
   "metadata": {
    "id": "JUzJ7VRmLRQY",
    "colab": {
     "base_uri": "https://localhost:8080/"
    },
    "outputId": "4fc7a8f9-3dde-45a8-cb60-85b87fbc6aec"
   },
   "source": [
    "X.columns"
   ],
   "execution_count": null,
   "outputs": []
  },
  {
   "cell_type": "code",
   "source": [
    "# try 'vendor_id', 'store_and_fwd_flag'\n",
    "num_features = ['log_distance_haversine', 'hour',\n",
    "                'abnormal_period', 'is_high_traffic_trip', 'is_high_speed_trip',\n",
    "                'is_rare_pickup_point', 'is_rare_dropoff_point',\n",
    "                'vendor_id', 'store_and_fwd_flag']\n",
    "cat_features = ['weekday', 'month']\n",
    "train_features = num_features + cat_features\n",
    "\n",
    "column_transformer = ColumnTransformer([\n",
    "    ('ohe', OneHotEncoder(handle_unknown=\"ignore\"), cat_features),\n",
    "    ('scaling', StandardScaler(), num_features)]\n",
    ")\n",
    "\n",
    "pipeline = Pipeline(steps=[\n",
    "    ('ohe_and_scaling', column_transformer),\n",
    "    ('regression', Ridge())\n",
    "])\n",
    "\n",
    "model = pipeline.fit(X_train[train_features], y_train)\n",
    "y_pred_train = model.predict(X_train[train_features])\n",
    "y_pred_test = model.predict(X_test[train_features])\n",
    "\n",
    "print(\"Train RMSE = %.4f\" % mean_squared_error(y_train, y_pred_train, squared=False))\n",
    "print(\"Test RMSE = %.4f\" % mean_squared_error(y_test, y_pred_test, squared=False))\n",
    "print(\"Test R2 = %.4f\" % r2_score(y_test, y_pred_test))"
   ],
   "metadata": {
    "colab": {
     "base_uri": "https://localhost:8080/"
    },
    "id": "2MsHECYjLinq",
    "outputId": "e685b376-cc12-4c2b-e731-01f412fe7ee0"
   },
   "execution_count": null,
   "outputs": []
  },
  {
   "cell_type": "code",
   "source": [
    "# try 'passenger_count'\n",
    "num_features = ['log_distance_haversine', 'hour',\n",
    "                'abnormal_period', 'is_high_traffic_trip', 'is_high_speed_trip',\n",
    "                'is_rare_pickup_point', 'is_rare_dropoff_point',\n",
    "                'passenger_count']\n",
    "cat_features = ['weekday', 'month']\n",
    "train_features = num_features + cat_features\n",
    "\n",
    "column_transformer = ColumnTransformer([\n",
    "    ('ohe', OneHotEncoder(handle_unknown=\"ignore\"), cat_features),\n",
    "    ('scaling', StandardScaler(), num_features)]\n",
    ")\n",
    "\n",
    "pipeline = Pipeline(steps=[\n",
    "    ('ohe_and_scaling', column_transformer),\n",
    "    ('regression', Ridge())\n",
    "])\n",
    "\n",
    "model = pipeline.fit(X_train[train_features], y_train)\n",
    "y_pred_train = model.predict(X_train[train_features])\n",
    "y_pred_test = model.predict(X_test[train_features])\n",
    "\n",
    "print(\"Train RMSE = %.4f\" % mean_squared_error(y_train, y_pred_train, squared=False))\n",
    "print(\"Test RMSE = %.4f\" % mean_squared_error(y_test, y_pred_test, squared=False))\n",
    "print(\"Test R2 = %.4f\" % r2_score(y_test, y_pred_test))"
   ],
   "metadata": {
    "colab": {
     "base_uri": "https://localhost:8080/"
    },
    "id": "LR4BP8K6RP_A",
    "outputId": "a7583def-acab-4d58-bec4-1faa745dacb8"
   },
   "execution_count": null,
   "outputs": []
  },
  {
   "cell_type": "markdown",
   "metadata": {
    "id": "XVkwfyGcLRQZ"
   },
   "source": [
    "If adding new variables didn't improve the quality of the model, you can drop them."
   ]
  },
  {
   "cell_type": "code",
   "source": [
    "def undo_step3_process_features(X):\n",
    "  res = X.copy()\n",
    "  res.drop(columns=['vendor_id', 'store_and_fwd_flag', 'passenger_count'])\n",
    "\n",
    "  return res\n",
    "\n",
    "X = undo_step3_process_features(X)\n",
    "X_train = undo_step3_process_features(X_train)\n",
    "X_test = undo_step3_process_features(X_test)"
   ],
   "metadata": {
    "id": "2E8ilXm1Rgud"
   },
   "execution_count": null,
   "outputs": []
  },
  {
   "cell_type": "markdown",
   "metadata": {
    "id": "fZzj7KAiLRQZ"
   },
   "source": [
    "## Task 7. Improve the model"
   ]
  },
  {
   "cell_type": "markdown",
   "metadata": {
    "id": "tM45qE_ULRQZ"
   },
   "source": [
    "### 7.1. Cleaning data\n",
    "\n",
    "There are outliers in the data: trips with too short duration or too long distance. Display the distribution of the abovementionned variables, select observations corresponding to the values of these variables that could be considered as outliers and drop them from the sample.\n",
    "\n",
    "Note that although these values appear to be outliers, the test sample will most likely contain objects with the \"outlier\" values of the target variable and/or the other variables. As a result, it is possible that cleaning up the training sample will lead to a deterioration in the quality of the test. However, it is always preferable to remove outliers to make the model more interpretable."
   ]
  },
  {
   "cell_type": "code",
   "metadata": {
    "id": "8ppU5lglLRQZ",
    "colab": {
     "base_uri": "https://localhost:8080/",
     "height": 335
    },
    "outputId": "81f2e9c7-e543-4099-ead5-09c0161029f5"
   },
   "source": [
    "X['log_distance_haversine'].hist(bins=100);"
   ],
   "execution_count": null,
   "outputs": []
  },
  {
   "cell_type": "code",
   "source": [
    "d = X['log_distance_haversine']\n",
    "d_min = d.quantile(0.01)\n",
    "d_max = d.quantile(0.995)\n",
    "d_new = d[(d > d_min) & (d < d_max)]\n",
    "\n",
    "fig, ax = plt.subplots(nrows=1, ncols=2, figsize=(20, 8))\n",
    "\n",
    "sns.histplot(x=d_new, ax=ax[0])\n",
    "ax[0].set(xlabel='log distance (haversine)')\n",
    "sns.histplot(x=np.expm1(d_new), ax=ax[1])\n",
    "ax[1].set(xlabel='distance (haversine)')\n",
    "plt.show()"
   ],
   "metadata": {
    "colab": {
     "base_uri": "https://localhost:8080/",
     "height": 392
    },
    "id": "lDUOwyUESVrH",
    "outputId": "8c5b5600-77ab-433a-e49c-fbb96a485277"
   },
   "execution_count": null,
   "outputs": []
  },
  {
   "cell_type": "code",
   "source": [
    "y_min = y.quantile(0.005)\n",
    "y_max = y.quantile(0.995)\n",
    "y_new = y[(y > y_min) & (y < y_max)]\n",
    "\n",
    "fig, ax = plt.subplots(nrows=1, ncols=2, figsize=(20, 8))\n",
    "\n",
    "sns.histplot(x=y_new, ax=ax[0])\n",
    "ax[0].set(xlabel='log trip duration')\n",
    "sns.histplot(x=np.expm1(y_new), ax=ax[1])\n",
    "ax[1].set(xlabel='trip duration')\n",
    "plt.show()"
   ],
   "metadata": {
    "colab": {
     "base_uri": "https://localhost:8080/",
     "height": 392
    },
    "id": "sYURCeSQUAjE",
    "outputId": "26cfdf7d-f7a1-46c9-c8f9-c28477aedccf"
   },
   "execution_count": null,
   "outputs": []
  },
  {
   "cell_type": "code",
   "source": [
    "def step4_remove_outliers(X, y):\n",
    "  res = X.copy()\n",
    "\n",
    "  d = res['log_distance_haversine']\n",
    "  d_min = d.quantile(0.01)\n",
    "  d_max = d.quantile(0.995)\n",
    "  cond_distance = (d > d_min) & (d < d_max)\n",
    "\n",
    "  y_min = y.quantile(0.005)\n",
    "  y_max = y.quantile(0.995)\n",
    "  cond_time = (y > y_min) & (y < y_max)\n",
    "\n",
    "  cond_non_outliers = cond_distance & cond_time\n",
    "\n",
    "  return X[cond_non_outliers], y[cond_non_outliers]"
   ],
   "metadata": {
    "id": "gA24d-x3UpY2"
   },
   "execution_count": null,
   "outputs": []
  },
  {
   "cell_type": "code",
   "source": [
    "X_temp, y_temp = step4_remove_outliers(X, y)\n",
    "display(X.shape, y.shape)\n",
    "display(X_temp.shape, y_temp.shape)\n",
    "len(X_temp) / len(X)"
   ],
   "metadata": {
    "colab": {
     "base_uri": "https://localhost:8080/",
     "height": 106
    },
    "id": "Bql6nkuNVvru",
    "outputId": "c3866415-9cfe-42a4-8b01-16eab23d35dc"
   },
   "execution_count": null,
   "outputs": []
  },
  {
   "cell_type": "code",
   "source": [
    "X_train, y_train = step4_remove_outliers(X_train, y_train)\n",
    "X, y = pd.concat([X_train, X_test]), pd.concat([y_train, y_test])"
   ],
   "metadata": {
    "id": "isgfvQc7WjIf"
   },
   "execution_count": null,
   "outputs": []
  },
  {
   "cell_type": "code",
   "source": [
    "display(X.shape, y.shape)"
   ],
   "metadata": {
    "colab": {
     "base_uri": "https://localhost:8080/",
     "height": 53
    },
    "id": "TGqyDchpXCTj",
    "outputId": "31c1ae9f-0f22-4beb-843a-956ffa1d3124"
   },
   "execution_count": null,
   "outputs": []
  },
  {
   "cell_type": "markdown",
   "metadata": {
    "id": "hKF94hbgLRQZ"
   },
   "source": [
    "There are many categorical variables. Some categories are very rare and using them can lead to overfitting. Try to combine (very) rare categories into fewer categories."
   ]
  },
  {
   "cell_type": "code",
   "metadata": {
    "id": "EY84t-l9LRQZ",
    "colab": {
     "base_uri": "https://localhost:8080/"
    },
    "outputId": "751c1317-b3bb-4813-837e-e115f6f17d54"
   },
   "source": [
    "X['weekday'].value_counts()"
   ],
   "execution_count": null,
   "outputs": []
  },
  {
   "cell_type": "code",
   "source": [
    "X['month'].value_counts()"
   ],
   "metadata": {
    "colab": {
     "base_uri": "https://localhost:8080/"
    },
    "id": "7xBI0NMyYPu_",
    "outputId": "fc262460-6f64-41ec-95d5-9bd177de6cb0"
   },
   "execution_count": null,
   "outputs": []
  },
  {
   "cell_type": "code",
   "source": [
    "def encode_weekday(x):\n",
    "  if (x == 0): return 0\n",
    "  if (x == 5): return 2\n",
    "  if (x == 6): return 3\n",
    "  return 1\n",
    "\n",
    "def step5_process_categorical_features(X):\n",
    "  res = X.copy()\n",
    "  res['weekday'] = res['weekday'].apply(encode_weekday)\n",
    "\n",
    "  return res\n",
    "\n",
    "# test the function\n",
    "step5_process_categorical_features(X)['weekday'].value_counts()"
   ],
   "metadata": {
    "colab": {
     "base_uri": "https://localhost:8080/"
    },
    "id": "1wqgaEvtZLD-",
    "outputId": "3a157790-977b-4d18-b812-3363b0ed0708"
   },
   "execution_count": null,
   "outputs": []
  },
  {
   "cell_type": "code",
   "source": [
    "X = step5_process_categorical_features(X)\n",
    "X_train = step5_process_categorical_features(X_train)\n",
    "X_test = step5_process_categorical_features(X_test)"
   ],
   "metadata": {
    "id": "n3TcbsYUakeC"
   },
   "execution_count": null,
   "outputs": []
  },
  {
   "cell_type": "markdown",
   "metadata": {
    "id": "Vxia3t7BLRQa"
   },
   "source": [
    "Train the model on clean data and evaluate it."
   ]
  },
  {
   "cell_type": "code",
   "metadata": {
    "id": "JZXwXRSgLRQa",
    "colab": {
     "base_uri": "https://localhost:8080/"
    },
    "outputId": "de296720-93ac-4fae-d45c-67b25cecec67"
   },
   "source": [
    "num_features = ['log_distance_haversine', 'hour',\n",
    "                'abnormal_period', 'is_high_traffic_trip', 'is_high_speed_trip',\n",
    "                'is_rare_pickup_point', 'is_rare_dropoff_point']\n",
    "cat_features = ['weekday', 'month']\n",
    "train_features = num_features + cat_features\n",
    "\n",
    "column_transformer = ColumnTransformer([\n",
    "    ('ohe', OneHotEncoder(handle_unknown=\"ignore\"), cat_features),\n",
    "    ('scaling', StandardScaler(), num_features)]\n",
    ")\n",
    "\n",
    "pipeline = Pipeline(steps=[\n",
    "    ('ohe_and_scaling', column_transformer),\n",
    "    ('regression', Ridge())\n",
    "])\n",
    "\n",
    "model = pipeline.fit(X_train[train_features], y_train)\n",
    "y_pred_train = model.predict(X_train[train_features])\n",
    "y_pred_test = model.predict(X_test[train_features])\n",
    "\n",
    "print(\"Train RMSE = %.4f\" % mean_squared_error(y_train, y_pred_train, squared=False))\n",
    "print(\"Test RMSE = %.4f\" % mean_squared_error(y_test, y_pred_test, squared=False))\n",
    "print(\"Test R2 = %.4f\" % r2_score(y_test, y_pred_test))"
   ],
   "execution_count": null,
   "outputs": []
  },
  {
   "cell_type": "markdown",
   "metadata": {
    "id": "WEZnqpwELRQa"
   },
   "source": [
    "### 7.2. Ridge vs. Lasso\n",
    "\n",
    "Tune hyperparameters of `Lasso` and `Ridge` algorithms. Which algorithms gives the best result?"
   ]
  },
  {
   "cell_type": "code",
   "metadata": {
    "id": "j5vxIcz0LRQa",
    "colab": {
     "base_uri": "https://localhost:8080/"
    },
    "outputId": "90b8e5a3-d563-490c-8d46-42d352f75867"
   },
   "source": [
    "from sklearn.linear_model import Lasso\n",
    "\n",
    "num_features = ['log_distance_haversine', 'hour',\n",
    "                'abnormal_period', 'is_high_traffic_trip', 'is_high_speed_trip',\n",
    "                'is_rare_pickup_point', 'is_rare_dropoff_point']\n",
    "cat_features = ['weekday', 'month']\n",
    "train_features = num_features + cat_features\n",
    "\n",
    "column_transformer = ColumnTransformer([\n",
    "    ('ohe', OneHotEncoder(handle_unknown=\"ignore\"), cat_features),\n",
    "    ('scaling', StandardScaler(), num_features)]\n",
    ")\n",
    "\n",
    "pipeline = Pipeline(steps=[\n",
    "    ('ohe_and_scaling', column_transformer),\n",
    "    ('regression', Lasso(alpha=0.5))\n",
    "])\n",
    "\n",
    "model = pipeline.fit(X_train[train_features], y_train)\n",
    "y_pred_train = model.predict(X_train[train_features])\n",
    "y_pred_test = model.predict(X_test[train_features])\n",
    "\n",
    "print(\"Train RMSE = %.4f\" % mean_squared_error(y_train, y_pred_train, squared=False))\n",
    "print(\"Test RMSE = %.4f\" % mean_squared_error(y_test, y_pred_test, squared=False))\n",
    "print(\"Test R2 = %.4f\" % r2_score(y_test, y_pred_test))"
   ],
   "execution_count": null,
   "outputs": []
  },
  {
   "cell_type": "code",
   "source": [
    "model.named_steps['regression'].coef_"
   ],
   "metadata": {
    "colab": {
     "base_uri": "https://localhost:8080/"
    },
    "id": "179SCdOYeV1f",
    "outputId": "cfc2c88a-e53d-472f-f377-227d29ddd847"
   },
   "execution_count": null,
   "outputs": []
  },
  {
   "cell_type": "code",
   "source": [
    "pipeline_ridge = Pipeline(steps=[\n",
    "    ('ohe_and_scaling', column_transformer),\n",
    "    ('regression', Ridge())\n",
    "])\n",
    "\n",
    "pipeline_lasso = Pipeline(steps=[\n",
    "    ('ohe_and_scaling', column_transformer),\n",
    "    ('regression', Lasso())\n",
    "])\n",
    "\n",
    "params = {'regression__alpha': np.logspace(-2, 2, 20)}"
   ],
   "metadata": {
    "id": "1MYKxoSNgb4e"
   },
   "execution_count": null,
   "outputs": []
  },
  {
   "cell_type": "code",
   "source": [
    "from sklearn.model_selection import GridSearchCV\n",
    "\n",
    "gs_ridge = GridSearchCV(pipeline_ridge, [params], scoring=\"neg_root_mean_squared_error\", cv=5, n_jobs=-1, verbose=2)\n",
    "gs_ridge.fit(X_train[train_features], y_train)\n",
    "\n",
    "best_alpha_ridge = gs_ridge.best_params_[\"regression__alpha\"]\n",
    "print(\"Best alpha (Ridge) = %.4f\" % best_alpha_ridge)\n",
    "\n",
    "plt.plot(params['regression__alpha'], -gs_ridge.cv_results_[\"mean_test_score\"])\n",
    "plt.xscale(\"log\")\n",
    "plt.xlabel(\"alpha\")\n",
    "plt.ylabel(\"CV score (RMSE)\");"
   ],
   "metadata": {
    "colab": {
     "base_uri": "https://localhost:8080/",
     "height": 427
    },
    "id": "PR6CeSIAfn6f",
    "outputId": "9ad021ac-fc31-44dc-e1c9-b9b6ea1b84c4"
   },
   "execution_count": null,
   "outputs": []
  },
  {
   "cell_type": "code",
   "source": [
    "gs_ridge = GridSearchCV(pipeline_ridge, [params], scoring=\"r2\", cv=5, n_jobs=-1, verbose=2)\n",
    "gs_ridge.fit(X_train[train_features], y_train)\n",
    "\n",
    "best_alpha_ridge = gs_ridge.best_params_[\"regression__alpha\"]\n",
    "print(\"Best alpha (Ridge) = %.4f\" % best_alpha_ridge)\n",
    "\n",
    "plt.plot(params['regression__alpha'], gs_ridge.cv_results_[\"mean_test_score\"])\n",
    "plt.xscale(\"log\")\n",
    "plt.xlabel(\"alpha\")\n",
    "plt.ylabel(\"CV score (r2)\")\n",
    "plt.ylim(0, 1)\n",
    "plt.show()"
   ],
   "metadata": {
    "colab": {
     "base_uri": "https://localhost:8080/",
     "height": 400
    },
    "id": "o-l3RgWLiKlg",
    "outputId": "c63b6fb5-fa9a-4ee4-fff9-dd7d42763932"
   },
   "execution_count": null,
   "outputs": []
  },
  {
   "cell_type": "code",
   "source": [
    "gs_ridge.cv_results_[\"mean_test_score\"]"
   ],
   "metadata": {
    "colab": {
     "base_uri": "https://localhost:8080/"
    },
    "id": "gtWSOOymkbbV",
    "outputId": "ce67c214-92d4-431c-e7c9-9e791bf897ec"
   },
   "execution_count": null,
   "outputs": []
  },
  {
   "cell_type": "code",
   "source": [
    "gs_lasso = GridSearchCV(pipeline_lasso, [params], scoring=\"neg_root_mean_squared_error\", cv=5, n_jobs=-1, verbose=2)\n",
    "gs_lasso.fit(X_train[train_features], y_train)\n",
    "\n",
    "best_alpha_lasso = gs_lasso.best_params_[\"regression__alpha\"]\n",
    "print(\"Best alpha (Lasso) = %.4f\" % best_alpha_lasso)\n",
    "\n",
    "plt.plot(params['regression__alpha'], -gs_lasso.cv_results_[\"mean_test_score\"])\n",
    "plt.xscale(\"log\")\n",
    "plt.xlabel(\"alpha\")\n",
    "plt.ylabel(\"CV score\")\n",
    "plt.show()"
   ],
   "metadata": {
    "colab": {
     "base_uri": "https://localhost:8080/",
     "height": 410
    },
    "id": "D2hrcRNmhLIl",
    "outputId": "7e802b26-9bd3-4f4d-f969-915cbfd3d709"
   },
   "execution_count": null,
   "outputs": []
  },
  {
   "cell_type": "code",
   "source": [
    "gs_lasso = GridSearchCV(pipeline_ridge, [params], scoring=\"r2\", cv=5, n_jobs=-1, verbose=2)\n",
    "gs_lasso.fit(X_train[train_features], y_train)\n",
    "\n",
    "best_alpha_lasso = gs_lasso.best_params_[\"regression__alpha\"]\n",
    "print(\"Best alpha (Lasso) = %.4f\" % best_alpha_lasso)\n",
    "\n",
    "plt.plot(params['regression__alpha'], gs_lasso.cv_results_[\"mean_test_score\"])\n",
    "plt.xscale(\"log\")\n",
    "plt.xlabel(\"alpha\")\n",
    "plt.ylabel(\"CV score (r2)\")\n",
    "plt.set_ylim(0, 1)\n",
    "plt.show()"
   ],
   "metadata": {
    "id": "fEQYrndnjXnD"
   },
   "execution_count": null,
   "outputs": []
  },
  {
   "cell_type": "markdown",
   "source": [
    "### 7.3. DecisionTreeRegressor and ensembles\n",
    "\n",
    "Use DecisionTreeRegressor and ensembles of trees (Random Forest and Gradient Boosting) to try to improve the model.\n",
    "\n"
   ],
   "metadata": {
    "id": "e7N2V9jPd-GG"
   }
  },
  {
   "cell_type": "code",
   "source": [
    "# your code here"
   ],
   "metadata": {
    "id": "0tM0SPNCetim"
   },
   "execution_count": null,
   "outputs": []
  }
 ]
}
